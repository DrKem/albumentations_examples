{
  "nbformat": 4,
  "nbformat_minor": 0,
  "metadata": {
    "colab": {
      "provenance": [],
      "authorship_tag": "ABX9TyNBMfTg2/QWhMypr5sfnYfc",
      "include_colab_link": true
    },
    "kernelspec": {
      "name": "python3",
      "display_name": "Python 3"
    },
    "language_info": {
      "name": "python"
    }
  },
  "cells": [
    {
      "cell_type": "markdown",
      "metadata": {
        "id": "view-in-github",
        "colab_type": "text"
      },
      "source": [
        "<a href=\"https://colab.research.google.com/github/DrKem/albumentations_examples/blob/master/Animal.ipynb\" target=\"_parent\"><img src=\"https://colab.research.google.com/assets/colab-badge.svg\" alt=\"Open In Colab\"/></a>"
      ]
    },
    {
      "cell_type": "code",
      "source": [
        "# Copyright (c) 2020 PaddlePaddle Authors. All Rights Reserved.\n",
        "#\n",
        "# Licensed under the Apache License, Version 2.0 (the \"License\");\n",
        "# you may not use this file except in compliance with the License.\n",
        "# You may obtain a copy of the License at\n",
        "#\n",
        "#     http://www.apache.org/licenses/LICENSE-2.0\n",
        "#\n",
        "# Unless required by applicable law or agreed to in writing, software\n",
        "# distributed under the License is distributed on an \"AS IS\" BASIS,\n",
        "# WITHOUT WARRANTIES OR CONDITIONS OF ANY KIND, either express or implied.\n",
        "# See the License for the specific language governing permissions and\n",
        "# limitations under the License.\n",
        "\n",
        "import os\n",
        "import os.path as osp\n",
        "import glob\n",
        "import subprocess\n",
        "from setuptools import find_packages, setup"
      ],
      "metadata": {
        "id": "DkmpEGp6X_l7"
      },
      "execution_count": 7,
      "outputs": []
    },
    {
      "cell_type": "code",
      "source": [
        "# ==============  version definition  ==============\n",
        "\n",
        "PPDET_VERSION = \"0.0.0\"\n",
        "\n",
        "\n",
        "def parse_version():\n",
        "    return PPDET_VERSION.replace('-', '')"
      ],
      "metadata": {
        "id": "AEL246DnYHIN"
      },
      "execution_count": 8,
      "outputs": []
    },
    {
      "cell_type": "code",
      "source": [
        "def git_commit():\n",
        "    try:\n",
        "        cmd = ['git', 'rev-parse', 'HEAD']\n",
        "        git_commit = subprocess.Popen(\n",
        "            cmd,\n",
        "            stdout=subprocess.PIPE).communicate()[0].strip()\n",
        "        git_commit = git_commit.decode()\n",
        "    except:\n",
        "        git_commit = 'Unknown'\n",
        "\n",
        "    return str(git_commit)"
      ],
      "metadata": {
        "id": "b8iRG9H3YMSY"
      },
      "execution_count": 9,
      "outputs": []
    },
    {
      "cell_type": "code",
      "source": [
        "def write_version_py(filename='paddledet/version.py'):\n",
        "    ver_str = \"\"\"# THIS FILE IS GENERATED FROM PADDLEPADDLE SETUP.PY\n",
        "#\n",
        "full_version    = '%(version)s'\n",
        "commit          = '%(commit)s'\n",
        "\"\"\"\n",
        "\n",
        "    _git_commit = git_commit()\n",
        "\n",
        "    # Create the directory if it doesn't exist\n",
        "    os.makedirs(os.path.dirname(filename), exist_ok=True)\n",
        "\n",
        "    with open(filename, 'w') as f:\n",
        "        f.write(ver_str % {'version': PPDET_VERSION, 'commit': _git_commit})"
      ],
      "metadata": {
        "id": "2zf0-J7oYXNa"
      },
      "execution_count": 10,
      "outputs": []
    },
    {
      "cell_type": "code",
      "source": [
        "write_version_py()\n",
        "\n",
        "# ==============  version definition  ==============\n",
        "\n",
        "def readme():\n",
        "    with open('README.md', encoding='utf-8') as f:\n",
        "        content = f.read()\n",
        "    return content"
      ],
      "metadata": {
        "id": "MreMN2zSYZu3"
      },
      "execution_count": 11,
      "outputs": []
    },
    {
      "cell_type": "code",
      "source": [
        "def parse_requirements(fname):\n",
        "    with open(fname, encoding=\"utf-8-sig\") as f:\n",
        "        requirements = f.readlines()\n",
        "    return requirements"
      ],
      "metadata": {
        "id": "9AcXUfFGYf9O"
      },
      "execution_count": 12,
      "outputs": []
    },
    {
      "cell_type": "code",
      "source": [
        "def parse_requirements(fname):\n",
        "    with open(fname, encoding=\"utf-8-sig\") as f:\n",
        "        requirements = f.readlines()\n",
        "    return requirements"
      ],
      "metadata": {
        "id": "gvHMvaEMYkjm"
      },
      "execution_count": 13,
      "outputs": []
    },
    {
      "cell_type": "code",
      "source": [],
      "metadata": {
        "id": "u9XurO1LYvPc"
      },
      "execution_count": null,
      "outputs": []
    },
    {
      "cell_type": "code",
      "execution_count": 14,
      "metadata": {
        "colab": {
          "base_uri": "https://localhost:8080/",
          "height": 349
        },
        "id": "vouNdQ_uVjRX",
        "outputId": "a5915916-310a-4e2b-9b27-b92a81aefbb1"
      },
      "outputs": [
        {
          "output_type": "error",
          "ename": "FileNotFoundError",
          "evalue": "ignored",
          "traceback": [
            "\u001b[0;31m---------------------------------------------------------------------------\u001b[0m",
            "\u001b[0;31mFileNotFoundError\u001b[0m                         Traceback (most recent call last)",
            "\u001b[0;32m<ipython-input-14-269cc414a675>\u001b[0m in \u001b[0;36m<cell line: 41>\u001b[0;34m()\u001b[0m\n\u001b[1;32m     46\u001b[0m         \u001b[0mauthor\u001b[0m\u001b[0;34m=\u001b[0m\u001b[0;34m'PaddlePaddle'\u001b[0m\u001b[0;34m,\u001b[0m\u001b[0;34m\u001b[0m\u001b[0;34m\u001b[0m\u001b[0m\n\u001b[1;32m     47\u001b[0m         \u001b[0mversion\u001b[0m\u001b[0;34m=\u001b[0m\u001b[0mparse_version\u001b[0m\u001b[0;34m(\u001b[0m\u001b[0;34m)\u001b[0m\u001b[0;34m,\u001b[0m\u001b[0;34m\u001b[0m\u001b[0;34m\u001b[0m\u001b[0m\n\u001b[0;32m---> 48\u001b[0;31m         \u001b[0minstall_requires\u001b[0m\u001b[0;34m=\u001b[0m\u001b[0mparse_requirements\u001b[0m\u001b[0;34m(\u001b[0m\u001b[0;34m'./requirements.txt'\u001b[0m\u001b[0;34m)\u001b[0m\u001b[0;34m,\u001b[0m\u001b[0;34m\u001b[0m\u001b[0;34m\u001b[0m\u001b[0m\n\u001b[0m\u001b[1;32m     49\u001b[0m         \u001b[0mdescription\u001b[0m\u001b[0;34m=\u001b[0m\u001b[0;34m'Object detection and instance segmentation toolkit based on PaddlePaddle'\u001b[0m\u001b[0;34m,\u001b[0m\u001b[0;34m\u001b[0m\u001b[0;34m\u001b[0m\u001b[0m\n\u001b[1;32m     50\u001b[0m         \u001b[0mlong_description\u001b[0m\u001b[0;34m=\u001b[0m\u001b[0mreadme\u001b[0m\u001b[0;34m(\u001b[0m\u001b[0;34m)\u001b[0m\u001b[0;34m,\u001b[0m\u001b[0;34m\u001b[0m\u001b[0;34m\u001b[0m\u001b[0m\n",
            "\u001b[0;32m<ipython-input-13-86496398639e>\u001b[0m in \u001b[0;36mparse_requirements\u001b[0;34m(fname)\u001b[0m\n\u001b[1;32m      1\u001b[0m \u001b[0;32mdef\u001b[0m \u001b[0mparse_requirements\u001b[0m\u001b[0;34m(\u001b[0m\u001b[0mfname\u001b[0m\u001b[0;34m)\u001b[0m\u001b[0;34m:\u001b[0m\u001b[0;34m\u001b[0m\u001b[0;34m\u001b[0m\u001b[0m\n\u001b[0;32m----> 2\u001b[0;31m     \u001b[0;32mwith\u001b[0m \u001b[0mopen\u001b[0m\u001b[0;34m(\u001b[0m\u001b[0mfname\u001b[0m\u001b[0;34m,\u001b[0m \u001b[0mencoding\u001b[0m\u001b[0;34m=\u001b[0m\u001b[0;34m\"utf-8-sig\"\u001b[0m\u001b[0;34m)\u001b[0m \u001b[0;32mas\u001b[0m \u001b[0mf\u001b[0m\u001b[0;34m:\u001b[0m\u001b[0;34m\u001b[0m\u001b[0;34m\u001b[0m\u001b[0m\n\u001b[0m\u001b[1;32m      3\u001b[0m         \u001b[0mrequirements\u001b[0m \u001b[0;34m=\u001b[0m \u001b[0mf\u001b[0m\u001b[0;34m.\u001b[0m\u001b[0mreadlines\u001b[0m\u001b[0;34m(\u001b[0m\u001b[0;34m)\u001b[0m\u001b[0;34m\u001b[0m\u001b[0;34m\u001b[0m\u001b[0m\n\u001b[1;32m      4\u001b[0m     \u001b[0;32mreturn\u001b[0m \u001b[0mrequirements\u001b[0m\u001b[0;34m\u001b[0m\u001b[0;34m\u001b[0m\u001b[0m\n",
            "\u001b[0;31mFileNotFoundError\u001b[0m: [Errno 2] No such file or directory: './requirements.txt'"
          ]
        }
      ],
      "source": [
        "def package_model_zoo():\n",
        "    cur_dir = osp.abspath(os.getcwd())  # Use the current working directory\n",
        "    model_zoo_dir = osp.join(cur_dir, 'ppdet', 'model_zoo')\n",
        "\n",
        "    # Create the directory if it doesn't exist\n",
        "    os.makedirs(model_zoo_dir, exist_ok=True)\n",
        "\n",
        "    cfg_dir = osp.join(cur_dir, \"configs\")\n",
        "    cfgs = glob.glob(osp.join(cfg_dir, '*/*.yml'))\n",
        "\n",
        "    valid_cfgs = []\n",
        "    for cfg in cfgs:\n",
        "        # exclude dataset base config\n",
        "        if osp.split(osp.split(cfg)[0])[1] not in ['datasets']:\n",
        "            valid_cfgs.append(cfg)\n",
        "    model_names = [\n",
        "        osp.relpath(cfg, cfg_dir).replace(\".yml\", \"\") for cfg in valid_cfgs\n",
        "    ]\n",
        "\n",
        "    model_zoo_file = osp.join(model_zoo_dir, 'MODEL_ZOO')\n",
        "    with open(model_zoo_file, 'w') as wf:\n",
        "        for model_name in model_names:\n",
        "            wf.write(\"{}\\n\".format(model_name))\n",
        "\n",
        "    return [model_zoo_file]\n",
        "\n",
        "\n",
        "\n",
        "packages = [\n",
        "    'ppdet',\n",
        "    'ppdet.core',\n",
        "    'ppdet.data',\n",
        "    'ppdet.engine',\n",
        "    'ppdet.metrics',\n",
        "    'ppdet.modeling',\n",
        "    'ppdet.model_zoo',\n",
        "    'ppdet.slim',\n",
        "    'ppdet.utils',\n",
        "]\n",
        "\n",
        "if __name__ == \"__main__\":\n",
        "    setup(\n",
        "        name='paddledet',\n",
        "        packages=find_packages(exclude=(\"configs\", \"tools\", \"deploy\")),\n",
        "        package_data={'ppdet.model_zoo': package_model_zoo()},\n",
        "        author='PaddlePaddle',\n",
        "        version=parse_version(),\n",
        "        install_requires=parse_requirements('./requirements.txt'),\n",
        "        description='Object detection and instance segmentation toolkit based on PaddlePaddle',\n",
        "        long_description=readme(),\n",
        "        long_description_content_type='text/markdown',\n",
        "        url='https://github.com/PaddlePaddle/PaddleDetection',\n",
        "        download_url='https://github.com/PaddlePaddle/PaddleDetection.git',\n",
        "        keywords=['ppdet paddle ppyolo'],\n",
        "        classifiers=[\n",
        "            'Intended Audience :: Developers',\n",
        "            'License :: OSI Approved :: Apache Software License',\n",
        "            'Operating System :: OS Independent',\n",
        "            'Natural Language :: Chinese (Simplified)',\n",
        "            'Programming Language :: Python :: 3',\n",
        "            'Programming Language :: Python :: 3.5',\n",
        "            'Programming Language :: Python :: 3.6',\n",
        "            'Programming Language :: Python :: 3.7',\n",
        "            'Programming Language :: Python :: 3.8', 'Topic :: Utilities'\n",
        "        ],\n",
        "        license='Apache License 2.0',\n",
        "        ext_modules=[]\n",
        "    )\n"
      ]
    }
  ]
}